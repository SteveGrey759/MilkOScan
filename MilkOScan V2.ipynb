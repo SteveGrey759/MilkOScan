{
 "cells": [
  {
   "cell_type": "markdown",
   "id": "bdccc342",
   "metadata": {},
   "source": [
    "# Read Files"
   ]
  },
  {
   "cell_type": "markdown",
   "id": "6b10a92f",
   "metadata": {},
   "source": [
    "press the >> symbol above to begin or restart. finally press restart and run all cells.\n",
    "\n",
    "Alternatively. click on the first cell, or \"Read Files\". and keep pressing \"> Run\""
   ]
  },
  {
   "cell_type": "code",
   "execution_count": 1,
   "id": "d935e116",
   "metadata": {},
   "outputs": [],
   "source": [
    "testing = False"
   ]
  },
  {
   "cell_type": "code",
   "execution_count": 2,
   "id": "c526354b",
   "metadata": {},
   "outputs": [
    {
     "data": {
      "application/javascript": [
       "IPython.OutputArea.prototype._should_scroll = function(lines) {\n",
       "    return false;\n",
       "}\n"
      ],
      "text/plain": [
       "<IPython.core.display.Javascript object>"
      ]
     },
     "metadata": {},
     "output_type": "display_data"
    }
   ],
   "source": [
    "%%javascript\n",
    "IPython.OutputArea.prototype._should_scroll = function(lines) {\n",
    "    return false;\n",
    "}"
   ]
  },
  {
   "cell_type": "code",
   "execution_count": 3,
   "id": "465dbaee",
   "metadata": {},
   "outputs": [
    {
     "data": {
      "text/html": [
       "<style id=hide>div.input{display:none;}</style><button type=\"button\"onclick=\"var myStyle = document.getElementById('hide').sheet;myStyle.insertRule('div.input{display:inherit !important;}', 0);\">Show inputs</button>"
      ],
      "text/plain": [
       "<IPython.core.display.HTML object>"
      ]
     },
     "metadata": {},
     "output_type": "display_data"
    }
   ],
   "source": [
    "if testing == False:\n",
    "    from IPython.core.display import display, HTML\n",
    "    display(HTML(r\"\"\"<style id=hide>div.input{display:none;}</style><button type=\"button\"onclick=\"var myStyle = document.getElementById('hide').sheet;myStyle.insertRule('div.input{display:inherit !important;}', 0);\">Show inputs</button>\"\"\"))\n",
    "\n"
   ]
  },
  {
   "cell_type": "code",
   "execution_count": 4,
   "id": "61c49e9f",
   "metadata": {},
   "outputs": [],
   "source": [
    "import os\n",
    "import numpy as np\n",
    "import pandas as pd\n",
    "import msoffcrypto \n",
    "import io \n",
    "import seaborn as sns\n",
    "from datetime import datetime\n",
    "import plotly.express as px\n",
    "%matplotlib inline\n"
   ]
  },
  {
   "cell_type": "code",
   "execution_count": 5,
   "id": "838e74d9",
   "metadata": {
    "scrolled": true
   },
   "outputs": [
    {
     "name": "stdout",
     "output_type": "stream",
     "text": [
      "local Excel Files: \n",
      " \n",
      "CleanedRawDairyData.xlsx\n",
      "FinalOutput.xlsx\n",
      "Gallon Per Cow Example.xlsx\n",
      "Hans Dairy Data 7-19-21.xlsx\n",
      "July- Gallon Per Cow.xlsx\n",
      "testdairydata - Copy2.xlsx\n",
      "testdairydata.xlsx\n"
     ]
    }
   ],
   "source": [
    "\n",
    "cwd = os.getcwd()\n",
    "if cwd[-10:] != \"ExcelFiles\":\n",
    "    os.chdir(\"ExcelFiles\")\n",
    "print(\"local Excel Files: \\n \")\n",
    "for subdir, dirs, files in os.walk('./'):\n",
    "    for file in files:\n",
    "        if file[-4:] == \"xlsx\":\n",
    "            print (file)"
   ]
  },
  {
   "cell_type": "code",
   "execution_count": null,
   "id": "a9c238b0",
   "metadata": {},
   "outputs": [],
   "source": [
    "\n"
   ]
  },
  {
   "cell_type": "code",
   "execution_count": 6,
   "id": "7ac08035",
   "metadata": {},
   "outputs": [],
   "source": [
    "#example implementation https://mybinder.org/v2/gh/SteveGrey759/MilkOScan/HEAD?filepath=MilkOScan%20V2.ipynb"
   ]
  },
  {
   "cell_type": "code",
   "execution_count": 7,
   "id": "544b3a60",
   "metadata": {},
   "outputs": [],
   "source": [
    "#What global variables may be desired for future manipulation of this data?\n",
    "#data grabbing:\n",
    "#relevant sheet #, \n",
    "#data cleaning: \n",
    "#just general oversight over how cleaning pipeline process is going, with warnings signs for dramatic errors\n",
    "#merging data:\n",
    "#derived columns/frames:\n",
    "#is days ago really a worthy column? \n",
    "#aggregates may take some interesting arguments\n",
    "#graphs: \n",
    "#date ranges, minInclusion stats, graph types, etc\n",
    "#display variables: \"would you like data cleaning process displayed? raw data analytics? etc\"\n"
   ]
  },
  {
   "cell_type": "code",
   "execution_count": 8,
   "id": "be972e8b",
   "metadata": {},
   "outputs": [],
   "source": [
    "dairyDataScanned = False\n",
    "RawDairySheetName = \"Raw Dairy (V#)\""
   ]
  },
  {
   "cell_type": "code",
   "execution_count": 9,
   "id": "a1637a29",
   "metadata": {
    "scrolled": true
   },
   "outputs": [
    {
     "ename": "KeyboardInterrupt",
     "evalue": "Interrupted by user",
     "output_type": "error",
     "traceback": [
      "\u001b[1;31m---------------------------------------------------------------------------\u001b[0m",
      "\u001b[1;31mKeyboardInterrupt\u001b[0m                         Traceback (most recent call last)",
      "\u001b[1;32m<ipython-input-9-d84152fec8e1>\u001b[0m in \u001b[0;36m<module>\u001b[1;34m\u001b[0m\n\u001b[0;32m      1\u001b[0m \u001b[1;32mwhile\u001b[0m \u001b[1;32mnot\u001b[0m \u001b[0mdairyDataScanned\u001b[0m\u001b[1;33m:\u001b[0m\u001b[1;33m\u001b[0m\u001b[1;33m\u001b[0m\u001b[0m\n\u001b[0;32m      2\u001b[0m     \u001b[1;32mif\u001b[0m \u001b[0mtesting\u001b[0m \u001b[1;33m==\u001b[0m \u001b[1;32mFalse\u001b[0m\u001b[1;33m:\u001b[0m\u001b[1;33m\u001b[0m\u001b[1;33m\u001b[0m\u001b[0m\n\u001b[1;32m----> 3\u001b[1;33m         \u001b[0mfileName\u001b[0m \u001b[1;33m=\u001b[0m \u001b[0minput\u001b[0m\u001b[1;33m(\u001b[0m\u001b[1;34m\"Please enter the DairyData's Excel files full name: \"\u001b[0m\u001b[1;33m)\u001b[0m\u001b[1;33m\u001b[0m\u001b[1;33m\u001b[0m\u001b[0m\n\u001b[0m\u001b[0;32m      4\u001b[0m     \u001b[1;32melse\u001b[0m\u001b[1;33m:\u001b[0m\u001b[1;33m\u001b[0m\u001b[1;33m\u001b[0m\u001b[0m\n\u001b[0;32m      5\u001b[0m         \u001b[0mfileName\u001b[0m \u001b[1;33m=\u001b[0m \u001b[1;34m\"Hans Dairy Data 7-19-21.xlsx\"\u001b[0m\u001b[1;33m\u001b[0m\u001b[1;33m\u001b[0m\u001b[0m\n",
      "\u001b[1;32m~\\Anaconda3\\envs\\Milkoscan2\\lib\\site-packages\\ipykernel\\kernelbase.py\u001b[0m in \u001b[0;36mraw_input\u001b[1;34m(self, prompt)\u001b[0m\n\u001b[0;32m    861\u001b[0m             \u001b[0mself\u001b[0m\u001b[1;33m.\u001b[0m\u001b[0m_parent_ident\u001b[0m\u001b[1;33m,\u001b[0m\u001b[1;33m\u001b[0m\u001b[1;33m\u001b[0m\u001b[0m\n\u001b[0;32m    862\u001b[0m             \u001b[0mself\u001b[0m\u001b[1;33m.\u001b[0m\u001b[0m_parent_header\u001b[0m\u001b[1;33m,\u001b[0m\u001b[1;33m\u001b[0m\u001b[1;33m\u001b[0m\u001b[0m\n\u001b[1;32m--> 863\u001b[1;33m             \u001b[0mpassword\u001b[0m\u001b[1;33m=\u001b[0m\u001b[1;32mFalse\u001b[0m\u001b[1;33m,\u001b[0m\u001b[1;33m\u001b[0m\u001b[1;33m\u001b[0m\u001b[0m\n\u001b[0m\u001b[0;32m    864\u001b[0m         )\n\u001b[0;32m    865\u001b[0m \u001b[1;33m\u001b[0m\u001b[0m\n",
      "\u001b[1;32m~\\Anaconda3\\envs\\Milkoscan2\\lib\\site-packages\\ipykernel\\kernelbase.py\u001b[0m in \u001b[0;36m_input_request\u001b[1;34m(self, prompt, ident, parent, password)\u001b[0m\n\u001b[0;32m    902\u001b[0m             \u001b[1;32mexcept\u001b[0m \u001b[0mKeyboardInterrupt\u001b[0m\u001b[1;33m:\u001b[0m\u001b[1;33m\u001b[0m\u001b[1;33m\u001b[0m\u001b[0m\n\u001b[0;32m    903\u001b[0m                 \u001b[1;31m# re-raise KeyboardInterrupt, to truncate traceback\u001b[0m\u001b[1;33m\u001b[0m\u001b[1;33m\u001b[0m\u001b[1;33m\u001b[0m\u001b[0m\n\u001b[1;32m--> 904\u001b[1;33m                 \u001b[1;32mraise\u001b[0m \u001b[0mKeyboardInterrupt\u001b[0m\u001b[1;33m(\u001b[0m\u001b[1;34m\"Interrupted by user\"\u001b[0m\u001b[1;33m)\u001b[0m \u001b[1;32mfrom\u001b[0m \u001b[1;32mNone\u001b[0m\u001b[1;33m\u001b[0m\u001b[1;33m\u001b[0m\u001b[0m\n\u001b[0m\u001b[0;32m    905\u001b[0m             \u001b[1;32mexcept\u001b[0m \u001b[0mException\u001b[0m \u001b[1;32mas\u001b[0m \u001b[0me\u001b[0m\u001b[1;33m:\u001b[0m\u001b[1;33m\u001b[0m\u001b[1;33m\u001b[0m\u001b[0m\n\u001b[0;32m    906\u001b[0m                 \u001b[0mself\u001b[0m\u001b[1;33m.\u001b[0m\u001b[0mlog\u001b[0m\u001b[1;33m.\u001b[0m\u001b[0mwarning\u001b[0m\u001b[1;33m(\u001b[0m\u001b[1;34m\"Invalid Message:\"\u001b[0m\u001b[1;33m,\u001b[0m \u001b[0mexc_info\u001b[0m\u001b[1;33m=\u001b[0m\u001b[1;32mTrue\u001b[0m\u001b[1;33m)\u001b[0m\u001b[1;33m\u001b[0m\u001b[1;33m\u001b[0m\u001b[0m\n",
      "\u001b[1;31mKeyboardInterrupt\u001b[0m: Interrupted by user"
     ]
    }
   ],
   "source": [
    "\n",
    "while not dairyDataScanned:\n",
    "    if testing == False:\n",
    "        fileName = input(\"Please enter the DairyData's Excel files full name: \")\n",
    "    else:\n",
    "        fileName = \"Hans Dairy Data 7-19-21.xlsx\"\n",
    "    fileName = fileName.strip()\n",
    "    if testing == False:\n",
    "        password = input(\"Please enter the Excel password for DairyData: \")\n",
    "    else:\n",
    "        password = \"replacethistext\"\n",
    "\n",
    "    try:\n",
    "        file = msoffcrypto.OfficeFile(open(fileName, \"rb\"))\n",
    "        file.load_key(password=password) # Use password\n",
    "        decrypted = io.BytesIO() \n",
    "        file.decrypt(decrypted)\n",
    "        RawDairy = pd.read_excel(decrypted, sheet_name=RawDairySheetName)\n",
    "        dairyDataScanned = True\n",
    "        break\n",
    "    except Exception as e: \n",
    "        print(e)\n",
    "        print(\"Please try again, or restart\")"
   ]
  },
  {
   "cell_type": "code",
   "execution_count": null,
   "id": "09ae7999",
   "metadata": {},
   "outputs": [],
   "source": [
    "#make all columns lowercase, and strip unecessary whitespaces\n",
    "RawDairy.columns= RawDairy.columns.str.lower()\n",
    "RawDairy.columns= RawDairy.columns.str.strip()\n",
    "print(\"Found columns: \")\n",
    "RawDairy.columns"
   ]
  },
  {
   "cell_type": "code",
   "execution_count": null,
   "id": "def4f79d",
   "metadata": {},
   "outputs": [],
   "source": [
    "#example of how to drop unnecessary columns\n",
    "#MilkoscanPage2 = MilkoscanPage2.drop(columns = ['comments'])\n",
    "#MilkoscanPage2.columns"
   ]
  },
  {
   "cell_type": "code",
   "execution_count": null,
   "id": "c350b484",
   "metadata": {},
   "outputs": [],
   "source": [
    "RawDairyInit = RawDairy # a un-cleaned version of rawdairy for reference, might not work"
   ]
  },
  {
   "cell_type": "markdown",
   "id": "12e44e48",
   "metadata": {},
   "source": [
    "# Cleaning raw dairy data: \n",
    "### Possible errors: \n",
    "* incorrect category (defatted, non V sampleid), \n",
    "* slightly incorrect entries (sampleid, date), inconsistent capitalization\n",
    "* outliers. (explicitly stated, or undetected)\n",
    "* repeated entries (accidentally entering same sample id twice, or systematically entering wrong sample IDs for a whole batch (off by one error) \n",
    "* Flagging potential errors for later analysis (e.g. two entries are unreasonably similar)"
   ]
  },
  {
   "cell_type": "markdown",
   "id": "5ca125c5",
   "metadata": {},
   "source": [
    "Delete Null/outlier values:\n",
    "* Some columns have missing entries, or text such as \"#N/A\" or \"Outlier\"\n",
    "* after converting those entries into a standard null value, we can display the number of nulls per column"
   ]
  },
  {
   "cell_type": "code",
   "execution_count": null,
   "id": "174db440",
   "metadata": {},
   "outputs": [],
   "source": [
    "RawDairy = RawDairy.replace('#N/A',np.nan)\n",
    "RawDairy = RawDairy.replace('Outlier',np.nan)\n",
    "print(\"Number of explicit null values by column\")\n",
    "RawDairy.isnull().sum()"
   ]
  },
  {
   "cell_type": "markdown",
   "id": "bb0b8005",
   "metadata": {},
   "source": [
    "### Delete all null entries from a specific column"
   ]
  },
  {
   "cell_type": "code",
   "execution_count": null,
   "id": "1afd5eaa",
   "metadata": {},
   "outputs": [],
   "source": [
    "def dropNullsFromColumn(df, column):\n",
    "    df = df[df[column].notna()]\n",
    "    return df"
   ]
  },
  {
   "cell_type": "code",
   "execution_count": null,
   "id": "191d0afe",
   "metadata": {},
   "outputs": [],
   "source": [
    "#dropNullsFromColumn(df = MilkoscanPage2, column = \"moisture, %\").isnull().sum() #it seems to work. \n",
    "acceptibleNullColumns = [\"comments\",\"exampletext\"]\n",
    "\n",
    "for column in RawDairy.columns:\n",
    "    if column not in acceptibleNullColumns:\n",
    "        RawDairy = dropNullsFromColumn(df = RawDairy, column = column)\n",
    "print(\"Null Entries in specific categories have been removed: \")\n",
    "RawDairy.isnull().sum() "
   ]
  },
  {
   "cell_type": "markdown",
   "id": "e225a9a9",
   "metadata": {},
   "source": [
    "### convert columns with small errors to correct type. delete outliers"
   ]
  },
  {
   "cell_type": "code",
   "execution_count": null,
   "id": "2d5062a5",
   "metadata": {},
   "outputs": [],
   "source": [
    "def coercedateTime(df, columnName):\n",
    "    preNull = df[columnName].isnull().values.sum()\n",
    "    dateTime = pd.to_datetime(df[columnName], errors = \"coerce\")\n",
    "    #test.describe()\n",
    "    print(\"coercing analysis date/time to datetime format has caused\", dateTime.isnull().values.sum()-preNull ,\"Number of null values\")\n",
    "    return dateTime\n",
    "#test.isnull().values.sum()\n",
    "RawDairy['analysis date/time'] = coercedateTime(df = RawDairy, columnName = 'analysis date/time')\n",
    "\n",
    "\n",
    "\n"
   ]
  },
  {
   "cell_type": "code",
   "execution_count": null,
   "id": "595272c8",
   "metadata": {},
   "outputs": [],
   "source": [
    "def coerceNumericOrString(df, columnsToNumeric):\n",
    "    #takes a list of column names to convert to numeric, converts all other object type columns to lowercase string\n",
    "    for column in df.columns:\n",
    "        if column in columnsToNumeric:\n",
    "            print(column, \"converted to float\")\n",
    "            df[column] = pd.to_numeric(df[column], errors='coerce', downcast='float')\n",
    "        elif df[column].dtypes != \"O\":\n",
    "            pass\n",
    "            #already coerced into timestamp or other object\n",
    "        else:\n",
    "            df[column] = df[column].astype(str)\n",
    "            df[column] = df[column].str.strip()\n",
    "            df[column] = df[column].str.lower()\n",
    "    return df\n",
    "RawDairy = coerceNumericOrString(df = RawDairy, columnsToNumeric = ['igg, as-is %', \"moisture, %\", \"igg, dry base %\"])"
   ]
  },
  {
   "cell_type": "markdown",
   "id": "c1031fc7",
   "metadata": {},
   "source": [
    "Nulls created by coercing to correct type:"
   ]
  },
  {
   "cell_type": "code",
   "execution_count": null,
   "id": "03e4f90a",
   "metadata": {},
   "outputs": [],
   "source": [
    "RawDairy.isnull().sum() "
   ]
  },
  {
   "cell_type": "code",
   "execution_count": null,
   "id": "4b1d13ed",
   "metadata": {},
   "outputs": [],
   "source": [
    "acceptibleNullColumns = [\"comments\",\"exampletext\"]\n",
    "print(\"After Coercing igg, moisture, and dry igg%, to integers, these are the anomalous entries for deletion: \")\n",
    "for column in RawDairy.columns:\n",
    "    if column not in acceptibleNullColumns and RawDairy[column].isnull().sum() :\n",
    "        print(RawDairyInit.iloc[RawDairy[RawDairy[column].isnull()].index])\n",
    "\n",
    "\n"
   ]
  },
  {
   "cell_type": "markdown",
   "id": "09170221",
   "metadata": {},
   "source": [
    "### Again, drop all unacceptable nulls"
   ]
  },
  {
   "cell_type": "code",
   "execution_count": null,
   "id": "888e6d19",
   "metadata": {},
   "outputs": [],
   "source": [
    "for column in RawDairy.columns:\n",
    "    if column not in [\"comments\",\"exampletext\"]:\n",
    "        RawDairy = dropNullsFromColumn(df = RawDairy, column = column)\n",
    "RawDairy.isnull().sum() "
   ]
  },
  {
   "cell_type": "markdown",
   "id": "408ae0e6",
   "metadata": {},
   "source": [
    "### Delete incorrect category"
   ]
  },
  {
   "cell_type": "markdown",
   "id": "d647038e",
   "metadata": {},
   "source": [
    "#### removes all entries that have a sample id not starting with a V. Also shifts entries longer than 5 to a new column"
   ]
  },
  {
   "cell_type": "code",
   "execution_count": null,
   "id": "2bb45c58",
   "metadata": {},
   "outputs": [],
   "source": [
    "MinimumSampleIdLength = 5\n",
    "MaximumSampleIdLength = 6\n",
    "\n",
    "def filterNonRaw(x):\n",
    "    #removes all entries that have a sample id not starting with a V. or a sampleID shorter than MinimumSampleIdLength\n",
    "    if x[0].lower() != \"v\":\n",
    "        return np.nan\n",
    "    if len(x) < MinimumSampleIdLength:\n",
    "        return np.nan\n",
    "    return x[:MaximumSampleIdLength-1]\n",
    "result = [filterNonRaw(x) for x in RawDairy['sample id']]\n",
    "#RawDairy['sample id'] = result"
   ]
  },
  {
   "cell_type": "code",
   "execution_count": null,
   "id": "5a709829",
   "metadata": {},
   "outputs": [],
   "source": [
    "#a sample of wrong ID samples\n",
    "printThisMany= 10\n",
    "\n",
    "print(\"there are:\", RawDairy[RawDairy['sample id'] != result].shape[0], \"possible misclassifications\")\n",
    "RawDairy[RawDairy['sample id'] != result].head(printThisMany)"
   ]
  },
  {
   "cell_type": "code",
   "execution_count": null,
   "id": "6886785b",
   "metadata": {},
   "outputs": [],
   "source": [
    "RawDairy['sample id'] = result"
   ]
  },
  {
   "cell_type": "code",
   "execution_count": null,
   "id": "3d580e77",
   "metadata": {},
   "outputs": [],
   "source": [
    "print(RawDairy['sample id'].isnull().sum(), \"samples have invalid sample IDs\")"
   ]
  },
  {
   "cell_type": "code",
   "execution_count": null,
   "id": "081e7824",
   "metadata": {},
   "outputs": [],
   "source": [
    "RawDairy = dropNullsFromColumn(df = RawDairy, column = 'sample id')\n",
    "#deleted entries with invalid sample IDs"
   ]
  },
  {
   "cell_type": "markdown",
   "id": "246763ac",
   "metadata": {},
   "source": [
    "### delete duplicate entries"
   ]
  },
  {
   "cell_type": "code",
   "execution_count": null,
   "id": "74ebd8dd",
   "metadata": {},
   "outputs": [],
   "source": [
    "RawDairy = RawDairy.sort_values(by=['analysis date/time'])\n",
    "capacity = 5\n",
    "suspiciousMinutes = 10 #minutes\n",
    "popList = [] #[[name, date], [name, date]] #pop out an entry after it has exceeded a timelimit\n",
    "duplicates = [] #[[412, 413],[442,443] ....]\n",
    "\n",
    "for row, index in zip(RawDairy.itertuples(), range(len(RawDairy))) :\n",
    "    date = row[6]\n",
    "    name = row[8]\n",
    "    iggAsIs = row[10]\n",
    "    #print(row) #Pandas(Index=291, _1=Timestamp('2021-04-01 11:28:00'), _2='AZ43101083', _3=2.240000009536743, _4=80.08999633789062, _5=11.25, _6='DELBERT DENURE', _7=100.0, Region='WI')\n",
    "    for recent in popList:\n",
    "        if name == recent[0]: \n",
    "            if abs((recent[1] - date).total_seconds()) < 60*suspiciousMinutes: \n",
    "                duplicates.append(index)\n",
    "                break\n",
    "    else:\n",
    "        popList.append([name, date]) \n",
    "    if len(popList) > capacity:\n",
    "        popList = popList[1:]\n",
    "\n",
    "\n",
    "print(\"there are \", len(duplicates), \"probable duplicates in the data, these will be removed\")\n",
    "print(duplicates[:20])\n",
    "#print(\"here are a sample of duplicates\")\n",
    "RawDairy.head(10)"
   ]
  },
  {
   "cell_type": "code",
   "execution_count": null,
   "id": "548d31ac",
   "metadata": {},
   "outputs": [],
   "source": [
    "RawDairy = RawDairy.drop(RawDairy.index[duplicates])"
   ]
  },
  {
   "cell_type": "markdown",
   "id": "97163bab",
   "metadata": {},
   "source": [
    "### add derived columns: to be implemented later"
   ]
  },
  {
   "cell_type": "markdown",
   "id": "a368af1d",
   "metadata": {},
   "source": [
    "*adding seconds/days ago column, adding error flags column, igg standard deviation, sample count..."
   ]
  },
  {
   "cell_type": "code",
   "execution_count": null,
   "id": "9f517be4",
   "metadata": {},
   "outputs": [],
   "source": [
    "#adding: potential integer column: errorFlags, If a single entry triggers multiple error flags as analysis progresses, we may #want to delete it. column value is initiated at 0."
   ]
  },
  {
   "cell_type": "code",
   "execution_count": null,
   "id": "1f097e81",
   "metadata": {},
   "outputs": [],
   "source": [
    "def dateTime_to_seconds_from_today(x):\n",
    "    return (datetime.now() - x).total_seconds()\n",
    "    "
   ]
  },
  {
   "cell_type": "code",
   "execution_count": null,
   "id": "08f9af22",
   "metadata": {},
   "outputs": [],
   "source": [
    "result = [dateTime_to_seconds_from_today(x) for x in RawDairy['analysis date/time']]"
   ]
  },
  {
   "cell_type": "code",
   "execution_count": null,
   "id": "f88dbf8c",
   "metadata": {},
   "outputs": [],
   "source": [
    "RawDairy[\"seconds ago\"] = result\n",
    "#RawDairy[\"days ago\"] = result"
   ]
  },
  {
   "cell_type": "code",
   "execution_count": null,
   "id": "0d549413",
   "metadata": {},
   "outputs": [],
   "source": [
    "RawDairy[\"days ago\"] = RawDairy[\"seconds ago\"]/(60*60*24)"
   ]
  },
  {
   "cell_type": "code",
   "execution_count": null,
   "id": "9654e5a7",
   "metadata": {},
   "outputs": [],
   "source": [
    "frequenciesDairyNames = RawDairy['dairy name'].value_counts()\n",
    "frequenciesDairyNames = frequenciesDairyNames.reset_index()\n",
    "frequenciesDairyNames.columns = [\"dairy name\",\"sample count\"]\n",
    "#frequenciesDairyNames"
   ]
  },
  {
   "cell_type": "code",
   "execution_count": null,
   "id": "5b131e18",
   "metadata": {},
   "outputs": [],
   "source": [
    "merger = pd.merge(frequenciesDairyNames, RawDairy)\n",
    "# merger.shape"
   ]
  },
  {
   "cell_type": "code",
   "execution_count": null,
   "id": "c0db0c08",
   "metadata": {},
   "outputs": [],
   "source": [
    "RawDairy = merger"
   ]
  },
  {
   "cell_type": "code",
   "execution_count": null,
   "id": "d51ac433",
   "metadata": {},
   "outputs": [],
   "source": [
    "iggStandardDev = RawDairy.groupby(\"dairy name\")[\"igg, as-is %\"].agg(['std'])\n",
    "#iggStandardDev"
   ]
  },
  {
   "cell_type": "code",
   "execution_count": null,
   "id": "ce2063d7",
   "metadata": {},
   "outputs": [],
   "source": [
    "iggStandardDev = iggStandardDev.reset_index()\n",
    "iggStandardDev\n",
    "iggStandardDev.columns = [\"dairy name\",\"igg standard dev\"]"
   ]
  },
  {
   "cell_type": "code",
   "execution_count": null,
   "id": "8b6c8ae1",
   "metadata": {},
   "outputs": [],
   "source": [
    "merger = pd.merge(iggStandardDev, RawDairy)\n",
    "#merger"
   ]
  },
  {
   "cell_type": "code",
   "execution_count": null,
   "id": "0d2e800d",
   "metadata": {},
   "outputs": [],
   "source": [
    "RawDairy = merger"
   ]
  },
  {
   "cell_type": "code",
   "execution_count": null,
   "id": "0dd1ed0a",
   "metadata": {},
   "outputs": [],
   "source": [
    "RawDairy[\"error flags\"] = 0 #E.g. if we average out potential mix ups, these may be revealed to diverge largely from other data\n",
    "#which may be considered a second flag, allowing us to remove the datapoint entirely, "
   ]
  },
  {
   "cell_type": "code",
   "execution_count": null,
   "id": "b6fa49c7",
   "metadata": {},
   "outputs": [],
   "source": [
    "#NOTE: it is more proper to add counts/STD after grouping?  \n",
    "#the file size isnt exactly an issue, missing values isnt really one either "
   ]
  },
  {
   "cell_type": "markdown",
   "id": "704297d3",
   "metadata": {},
   "source": [
    "## importing and merging gallon per cow"
   ]
  },
  {
   "cell_type": "code",
   "execution_count": null,
   "id": "694221dc",
   "metadata": {},
   "outputs": [],
   "source": [
    "#This does not become useful until we have aggregated samples based off of sampleID"
   ]
  },
  {
   "cell_type": "code",
   "execution_count": null,
   "id": "67ff7101",
   "metadata": {},
   "outputs": [],
   "source": [
    "cwd = os.getcwd()\n",
    "if cwd[-10:] != \"ExcelFiles\":\n",
    "    os.chdir(\"ExcelFiles\")\n",
    "print(\"local Excel Files: \\n \")\n",
    "for subdir, dirs, files in os.walk('./'):\n",
    "    for file in files:\n",
    "        if file[-4:] == \"xlsx\":\n",
    "            print (file)"
   ]
  },
  {
   "cell_type": "code",
   "execution_count": null,
   "id": "5a69b4ee",
   "metadata": {},
   "outputs": [],
   "source": [
    "gallonsPerCowScanned = False\n",
    "gallonsPerCowScannedSheetName = \"MachineFriendly\""
   ]
  },
  {
   "cell_type": "code",
   "execution_count": null,
   "id": "ca858647",
   "metadata": {
    "scrolled": true
   },
   "outputs": [],
   "source": [
    "while not gallonsPerCowScanned:\n",
    "    if testing == False:\n",
    "        fileName = input(\"Please enter the GallonsPerCow Excel files full name: \")\n",
    "    else: \n",
    "        fileName = \"Gallon Per Cow Example.xlsx\"\n",
    "    fileName = fileName.strip()\n",
    "    if testing == False:\n",
    "        password = input(\"Please enter the Excel password for GallonPerCow: \")\n",
    "    else: \n",
    "        password = \"replacethistext\"\n",
    "\n",
    "    try:\n",
    "        file = msoffcrypto.OfficeFile(open(fileName, \"rb\"))\n",
    "        file.load_key(password=password) # Use password\n",
    "        decrypted = io.BytesIO() \n",
    "        file.decrypt(decrypted)\n",
    "        gallonsPerCow = pd.read_excel(decrypted, sheet_name=gallonsPerCowScannedSheetName)\n",
    "        gallonsPerCowScanned = True\n",
    "        break\n",
    "    except Exception as e: \n",
    "        print(e)\n",
    "        print(\"Please try again, or restart\")"
   ]
  },
  {
   "cell_type": "code",
   "execution_count": null,
   "id": "a4a50cf7",
   "metadata": {},
   "outputs": [],
   "source": [
    "gallonsPerCow.columns= gallonsPerCow.columns.str.lower()\n",
    "gallonsPerCow.columns= gallonsPerCow.columns.str.strip()\n",
    "print(\"Found columns: \")\n",
    "gallonsPerCow.columns"
   ]
  },
  {
   "cell_type": "code",
   "execution_count": null,
   "id": "c468889d",
   "metadata": {},
   "outputs": [],
   "source": [
    "gallonsPerCow['date(month)'] = coercedateTime(df = gallonsPerCow, columnName = 'date(month)')"
   ]
  },
  {
   "cell_type": "code",
   "execution_count": null,
   "id": "c07568c2",
   "metadata": {},
   "outputs": [],
   "source": [
    "gallonsPerCow = coerceNumericOrString(df = gallonsPerCow, columnsToNumeric = ['total cow herd', 'total gallons'])"
   ]
  },
  {
   "cell_type": "code",
   "execution_count": null,
   "id": "6b7d0a38",
   "metadata": {},
   "outputs": [],
   "source": [
    "for column in gallonsPerCow.columns:\n",
    "    if column not in []:\n",
    "        gallonsPerCow = dropNullsFromColumn(df = gallonsPerCow, column = column)\n",
    "#gallonsPerCow.isnull().sum() "
   ]
  },
  {
   "cell_type": "markdown",
   "id": "f4e44d79",
   "metadata": {},
   "source": [
    "all nulls dropped "
   ]
  },
  {
   "cell_type": "markdown",
   "id": "8000f586",
   "metadata": {},
   "source": [
    "Gallon per cow example has some fake values appended for testing. namely the last 4 entries"
   ]
  },
  {
   "cell_type": "code",
   "execution_count": null,
   "id": "ca227e76",
   "metadata": {},
   "outputs": [],
   "source": [
    "gallonsPerCow.tail(8)"
   ]
  },
  {
   "cell_type": "markdown",
   "id": "99a6799b",
   "metadata": {},
   "source": [
    "assume linear change in total gallons between measurements? apply to rawdairy samples as a new column, estimated gallons per cow. (also make linear estimator flat at both ends of the data.\n",
    "also add total cow herd according to this linear estimator. finally add region and dairy name\n",
    "\n",
    "This is a TODO item, until method is verified by sharon/dave. for now just do something simple, like groupby average"
   ]
  },
  {
   "cell_type": "code",
   "execution_count": null,
   "id": "e70691dd",
   "metadata": {},
   "outputs": [],
   "source": [
    "#referenceGroup = gallonsPerCow.groupby([\"vendor code\"]).mean()\n",
    "#referenceGroup"
   ]
  },
  {
   "cell_type": "code",
   "execution_count": null,
   "id": "e5541012",
   "metadata": {},
   "outputs": [],
   "source": [
    "#referenceGroup.loc[referenceGroup.index == \"v1545\"][\"total cow herd\"][0]"
   ]
  },
  {
   "cell_type": "code",
   "execution_count": null,
   "id": "5d663141",
   "metadata": {},
   "outputs": [],
   "source": [
    "#referenceGroup = gallonsPerCow.groupby([\"vendor code\"]).mean()\n",
    "#def retrieveHerdAndGallons(x, referenceGroup):\n",
    "#    val = referenceGroup.loc[referenceGroup.index == x][\"total cow herd\"]\n",
    "#    if val.shape[0] > 0:\n",
    "#        return val[0]\n",
    "#    return np.nan\n",
    "#result = [retrieveHerdAndGallons(x, referenceGroup) for x in RawDairy['sample id']]\n",
    "#result"
   ]
  },
  {
   "cell_type": "code",
   "execution_count": null,
   "id": "ec7fa779",
   "metadata": {},
   "outputs": [],
   "source": [
    "#RawDairy[\"cow herd size\"] = result  #on this data there is already cow herd size"
   ]
  },
  {
   "cell_type": "code",
   "execution_count": null,
   "id": "e623ca74",
   "metadata": {},
   "outputs": [],
   "source": [
    "#RawDairy.head()"
   ]
  },
  {
   "cell_type": "code",
   "execution_count": null,
   "id": "c0f529a7",
   "metadata": {},
   "outputs": [],
   "source": [
    "#missingCowHerdEntries = RawDairy[\"cow herd size\"].isnull().sum() \n",
    "#print(RawDairy.shape[0]-missingCowHerdEntries, \"out of\", RawDairy.shape[0], \"entries have gallon per cow estimates\")"
   ]
  },
  {
   "cell_type": "code",
   "execution_count": null,
   "id": "4b759104",
   "metadata": {},
   "outputs": [],
   "source": [
    "referenceGroup = gallonsPerCow.groupby([\"vendor code\"]).mean()\n",
    "def retrieveHerdAndGallons(x, referenceGroup):\n",
    "    val = referenceGroup.loc[referenceGroup.index == x][\"total gallons\"]\n",
    "    if val.shape[0] > 0:\n",
    "        return val[0]\n",
    "    return np.nan\n",
    "result = [retrieveHerdAndGallons(x, referenceGroup) for x in RawDairy['sample id']]\n",
    "#result"
   ]
  },
  {
   "cell_type": "code",
   "execution_count": null,
   "id": "3ee68fe0",
   "metadata": {},
   "outputs": [],
   "source": [
    "RawDairy[\"gallons this month\"] = result  #on this data there is already cow herd size"
   ]
  },
  {
   "cell_type": "code",
   "execution_count": null,
   "id": "159ae558",
   "metadata": {},
   "outputs": [],
   "source": [
    "missingCowHerdEntries = RawDairy[\"gallons this month\"].isnull().sum() \n",
    "print(RawDairy.shape[0]-missingCowHerdEntries, \"out of\", RawDairy.shape[0], \"entries have gallon per cow estimates\")"
   ]
  },
  {
   "cell_type": "markdown",
   "id": "dd68df26",
   "metadata": {},
   "source": [
    "## Raw data histograms and scatterplots\n"
   ]
  },
  {
   "cell_type": "markdown",
   "id": "faa66cfa",
   "metadata": {},
   "source": [
    "columns worth graphing: \n",
    "'analysis date/time', '', 'igg, as-is %', 'moisture, %', 'igg, dry base %'],\n",
    "     "
   ]
  },
  {
   "cell_type": "code",
   "execution_count": null,
   "id": "fe7868a2",
   "metadata": {},
   "outputs": [],
   "source": [
    "def InverseBadColumns(df, listBadColumns):    \n",
    "    goodColumns = []\n",
    "    for column in df.columns:\n",
    "        if column not in listBadColumns:\n",
    "            goodColumns.append(column)\n",
    "    return goodColumns"
   ]
  },
  {
   "cell_type": "code",
   "execution_count": null,
   "id": "9a3634d7",
   "metadata": {},
   "outputs": [],
   "source": [
    "RawDairy.columns\n"
   ]
  },
  {
   "cell_type": "code",
   "execution_count": null,
   "id": "71666ebf",
   "metadata": {},
   "outputs": [],
   "source": [
    "listBadColumns = ['location',\n",
    "       'material', 'category', 'subcategory', 'username', \n",
    "       'analysis id',  'comments', 'seconds ago',\n",
    "       'error flags']"
   ]
  },
  {
   "cell_type": "code",
   "execution_count": null,
   "id": "e1615f61",
   "metadata": {},
   "outputs": [],
   "source": [
    "plotRawData = True"
   ]
  },
  {
   "cell_type": "code",
   "execution_count": null,
   "id": "0c69309c",
   "metadata": {},
   "outputs": [],
   "source": [
    "#RawDairy.columns\n",
    "# 'analysis id', 'sample id', 'comments',\n",
    "#       'igg, as-is %', 'moisture, %', 'igg, dry base %', 'dairy name',\n",
    "#       'cow herd', 'region', 'days ago', "
   ]
  },
  {
   "cell_type": "code",
   "execution_count": null,
   "id": "7fffbdb3",
   "metadata": {},
   "outputs": [],
   "source": [
    "if plotRawData == True:\n",
    "    fig = px.scatter(RawDairy, x=\"igg, as-is %\", y = \"igg, dry base %\",trendline=\"ols\")\n",
    "    fig.show()"
   ]
  },
  {
   "cell_type": "code",
   "execution_count": null,
   "id": "87e733c9",
   "metadata": {},
   "outputs": [],
   "source": [
    "if plotRawData == True:\n",
    "    sns.set(rc={'figure.figsize':(11.7,8.27)})"
   ]
  },
  {
   "cell_type": "code",
   "execution_count": null,
   "id": "b2fe553a",
   "metadata": {},
   "outputs": [],
   "source": [
    "#sns.scatterplot(data=RawDairy, x=\"moisture, %\", y = \"igg, as-is %\", hue =\"days ago\", legend = \"brief\")\n",
    "\n",
    "fig = px.scatter(RawDairy, x=\"moisture, %\", y = \"igg, as-is %\", trendline=\"ols\")\n",
    "fig.show()"
   ]
  },
  {
   "cell_type": "code",
   "execution_count": null,
   "id": "e94ff854",
   "metadata": {},
   "outputs": [],
   "source": [
    "#sns.scatterplot(data=RawDairy, x=\"moisture, %\", y = \"igg, dry base %\", hue =\"days ago\", legend = \"brief\")"
   ]
  },
  {
   "cell_type": "code",
   "execution_count": null,
   "id": "00f93b59",
   "metadata": {},
   "outputs": [],
   "source": [
    "fig = px.scatter(RawDairy, x=\"moisture, %\", y = \"igg, dry base %\", trendline=\"ols\")\n",
    "fig.show()\n",
    "#note, dry base igg is a derived column from moisture and igg as is, and is not directly measured. "
   ]
  },
  {
   "cell_type": "code",
   "execution_count": null,
   "id": "cb263330",
   "metadata": {
    "scrolled": true
   },
   "outputs": [],
   "source": [
    "fig = px.scatter(RawDairy,  x=\"days ago\", y = \"igg, as-is %\",  marginal_y=\"violin\",\n",
    "           marginal_x=\"violin\", trendline=\"ols\", template=\"simple_white\", title=\"Overall Trend of IGG as is %\")\n",
    "fig.show()\n",
    "\n",
    "\n",
    "#if plotRawData == True:\n",
    " #   sns.scatterplot(data=RawDairy, x=\"days ago\", y = \"igg, as-is %\",)"
   ]
  },
  {
   "cell_type": "code",
   "execution_count": null,
   "id": "a5aace2b",
   "metadata": {},
   "outputs": [],
   "source": [
    "#while not gallonsPerCowScanned:\n",
    "#    requestRawPlots = input(\"Would you like the histograms and scatterplots of #the cleaned raw data?\")\n",
    "#    try:\n",
    "#        gallonsPerCowScanned = True\n",
    "#        break\n",
    "#    except Exception as e: \n",
    "#        print(e)\n",
    "#        print(\"Please try again, or restart\")\n",
    "\n",
    "#requestRawPlots = input(\"Would you like the histograms and scatterplots of the cleaned raw data?\")"
   ]
  },
  {
   "cell_type": "markdown",
   "id": "9e67b7d7",
   "metadata": {},
   "source": [
    "## gallons per cow data\n",
    "### note: may represent only half of the data, there also may be large variation in gallons per month estimates"
   ]
  },
  {
   "cell_type": "code",
   "execution_count": null,
   "id": "b4f050a7",
   "metadata": {},
   "outputs": [],
   "source": [
    "RawDairyWithGallons = dropNullsFromColumn(df = RawDairy, column = \"gallons this month\")"
   ]
  },
  {
   "cell_type": "code",
   "execution_count": null,
   "id": "d588c5f1",
   "metadata": {},
   "outputs": [],
   "source": []
  },
  {
   "cell_type": "code",
   "execution_count": null,
   "id": "8dba9123",
   "metadata": {},
   "outputs": [],
   "source": [
    "print(len(RawDairyWithGallons[\"dairy name\"].unique()), \"out of\", len(RawDairy[\"dairy name\"].unique()), \"dairies have gallon data\")"
   ]
  },
  {
   "cell_type": "code",
   "execution_count": null,
   "id": "580f733b",
   "metadata": {},
   "outputs": [],
   "source": [
    "RawDairyWithGallons[\"gallons per cow\"] = RawDairyWithGallons[\"gallons this month\"]/RawDairyWithGallons[\"cow herd\"]*12\n",
    "#RawDairyWithGallons.head()"
   ]
  },
  {
   "cell_type": "markdown",
   "id": "76e384f3",
   "metadata": {},
   "source": [
    "Columns worth graphing: 'igg, as-is %', 'moisture, %', 'igg, dry base %', 'dairy name',\n",
    "       'cow herd', 'region', 'days ago', 'gallons', 'gallons per cow'  (*)gallons per cow * cow herd? "
   ]
  },
  {
   "cell_type": "code",
   "execution_count": null,
   "id": "273748a5",
   "metadata": {},
   "outputs": [],
   "source": [
    "goodColumns = ['igg, as-is %', 'moisture, %', 'igg, dry base %', 'dairy name', 'cow herd', 'region', 'days ago', 'gallons this month', 'gallons per cow'] "
   ]
  },
  {
   "cell_type": "code",
   "execution_count": null,
   "id": "e6302bc9",
   "metadata": {},
   "outputs": [],
   "source": [
    "fig = px.scatter(RawDairyWithGallons, hover_data=goodColumns, title=\"IGG as is % to Gallons per Cow\", x=\"gallons per cow\", y = 'igg, as-is %', color = \"region\", size = 'cow herd', hover_name=\"dairy name\", trendline=\"ols\")\n",
    "fig.show()"
   ]
  },
  {
   "cell_type": "code",
   "execution_count": null,
   "id": "ebfe2667",
   "metadata": {},
   "outputs": [],
   "source": [
    "RawDairyWithGallonsGroupedByDairy = RawDairyWithGallons.groupby([\"dairy name\"]).mean()\n",
    "RawDairyWithGallonsGroupedByDairy = RawDairyWithGallonsGroupedByDairy.reset_index()\n",
    "\n",
    "\n",
    "fig = px.scatter(RawDairyWithGallonsGroupedByDairy, title=\"IGG as is % to Gallons per Cow (Grouped by Dairy)\", color = \"igg, dry base %\", marginal_x=\"violin\", \\\n",
    "                 x=\"gallons per cow\", y = 'igg, as-is %', size = 'cow herd', \\\n",
    "                 hover_data=[\"sample count\", \"igg standard dev\"], hover_name=\"dairy name\", trendline=\"ols\")\n",
    "fig.show()"
   ]
  },
  {
   "cell_type": "code",
   "execution_count": null,
   "id": "38725b3d",
   "metadata": {},
   "outputs": [],
   "source": [
    "fig = px.scatter(RawDairyWithGallonsGroupedByDairy, title=\"IGG as is % to Gallons per Cow (Grouped by Dairy)\", color = \"igg standard dev\", marginal_x=\"violin\", x=\"gallons per cow\", y = 'igg, as-is %', size = 'cow herd', hover_name=\"dairy name\", trendline=\"ols\")\n",
    "fig.show()"
   ]
  },
  {
   "cell_type": "code",
   "execution_count": null,
   "id": "4e7ba45d",
   "metadata": {},
   "outputs": [],
   "source": [
    "fig = px.scatter(RawDairyWithGallonsGroupedByDairy, title=\"\", color = \"sample count\", marginal_x=\"violin\", x=\"gallons per cow\", y = 'moisture, %', size = 'cow herd', hover_name=\"dairy name\", trendline=\"ols\")\n",
    "fig.show()"
   ]
  },
  {
   "cell_type": "markdown",
   "id": "2e6d7156",
   "metadata": {},
   "source": [
    "## Finished with gallon data \n",
    "#### (returned to the full dataset)"
   ]
  },
  {
   "cell_type": "code",
   "execution_count": null,
   "id": "e162ad65",
   "metadata": {},
   "outputs": [],
   "source": [
    "RawDairyGroupedByDairy = RawDairy.groupby([\"dairy name\"]).mean()\n",
    "RawDairyGroupedByDairy = RawDairyGroupedByDairy.reset_index()\n",
    "#RawDairyGroupedByDairy"
   ]
  },
  {
   "cell_type": "code",
   "execution_count": null,
   "id": "439a4456",
   "metadata": {},
   "outputs": [],
   "source": [
    "#RawDairyGroupedByDairy = pd.merge(RawDairyGroupedByDairy, RawDairy)\n",
    "#RawDairyGroupedByDairy  #Why does it set sample counts to 1??"
   ]
  },
  {
   "cell_type": "code",
   "execution_count": null,
   "id": "e70228c0",
   "metadata": {},
   "outputs": [],
   "source": [
    "fig = px.scatter(RawDairyGroupedByDairy,title = \"igg as is % to cow herd size\",  x=\"cow herd\", y = 'igg, as-is %', color = \"sample count\", hover_name=\"dairy name\", trendline=\"ols\")\n",
    "fig.show()"
   ]
  },
  {
   "cell_type": "code",
   "execution_count": null,
   "id": "f16b6dc5",
   "metadata": {},
   "outputs": [],
   "source": [
    "fig = px.scatter(RawDairyGroupedByDairy, title = \"mean values for dairy igg and moisture\", x=\"moisture, %\", y = 'igg, as-is %', hover_name=\"dairy name\", trendline=\"ols\", size = \"cow herd\", color = \"sample count\")\n",
    "fig.show()"
   ]
  },
  {
   "cell_type": "code",
   "execution_count": null,
   "id": "b1b81d34",
   "metadata": {},
   "outputs": [],
   "source": []
  },
  {
   "cell_type": "code",
   "execution_count": null,
   "id": "44e824c1",
   "metadata": {},
   "outputs": [],
   "source": [
    "def filter_by_freq(df: pd.DataFrame, column: str, min_freq: int) -> pd.DataFrame:\n",
    "    \"\"\"Filters the DataFrame based on the value frequency in the specified column.\n",
    "\n",
    "    :param df: DataFrame to be filtered.\n",
    "    :param column: Column name that should be frequency filtered.\n",
    "    :param min_freq: Minimal value frequency for the row to be accepted.\n",
    "    :return: Frequency filtered DataFrame.\n",
    "    \"\"\"\n",
    "    # Frequencies of each value in the column.\n",
    "    freq = df[column].value_counts()\n",
    "    # Select frequent values. Value is in the index.\n",
    "    frequent_values = freq[freq >= min_freq].index\n",
    "    # Return only rows with value frequency above threshold.\n",
    "    return df[df[column].isin(frequent_values)]"
   ]
  },
  {
   "cell_type": "code",
   "execution_count": null,
   "id": "bf71be4c",
   "metadata": {},
   "outputs": [],
   "source": [
    "\n",
    "minInclusion = 2\n",
    "minInclusionRawDairy = filter_by_freq(RawDairy, column = \"dairy name\", min_freq = minInclusion)"
   ]
  },
  {
   "cell_type": "code",
   "execution_count": null,
   "id": "d8fb98c8",
   "metadata": {},
   "outputs": [],
   "source": [
    "print(\"double click a dairy name to see it alone, double click again to revert\")\n",
    "fig = px.scatter(minInclusionRawDairy,  x=\"days ago\", y = \"igg, as-is %\",\n",
    "            trendline=\"ols\", color = \"dairy name\", title=\"Individual Dairy Trends for IGG as is %\")\n",
    "fig.show()"
   ]
  },
  {
   "cell_type": "markdown",
   "id": "07b856b6",
   "metadata": {},
   "source": [
    "## Build a Graph"
   ]
  },
  {
   "cell_type": "code",
   "execution_count": null,
   "id": "19c3822e",
   "metadata": {},
   "outputs": [],
   "source": [
    "\n",
    "\n",
    "def UserRequest(viableAnswers):\n",
    "    #IsStrNull = str1 : str1 or None\n",
    "    print(\"please enter one of these viable answers, or type finish: \", str(viableAnswers)[1:-1])\n",
    "    userInput = \"\"\n",
    "    while True: #userInput not in [\"escape\",\"finish\",\"end\",\"break\",\"done\",\"stop\"]:\n",
    "        userInput = input()\n",
    "        if userInput in viableAnswers:\n",
    "            return userInput\n",
    "        if userInput.lower() in [\"escape\",\"finish\",\"end\",\"break\",\"done\",\"stop\"]:\n",
    "            return False\n",
    "        else:\n",
    "            print(\"invalid user input, please try again\")"
   ]
  },
  {
   "cell_type": "code",
   "execution_count": null,
   "id": "b24d9cb8",
   "metadata": {},
   "outputs": [],
   "source": [
    "def get_df_name(df):\n",
    "    name =[x for x in globals() if globals()[x] is df][0]\n",
    "    return name"
   ]
  },
  {
   "cell_type": "code",
   "execution_count": null,
   "id": "49074bfd",
   "metadata": {},
   "outputs": [],
   "source": [
    "def InverseBadColumns(df, listBadColumns):    \n",
    "    goodColumns = []\n",
    "    for column in df.columns:\n",
    "        if column not in listBadColumns:\n",
    "            goodColumns.append(column)\n",
    "    return goodColumns\n",
    "\n",
    "#InverseBadColumns(RawDairy, [\"location\",\"material\",\"category\",'subcategory', \\\n",
    "#               'username','analysis id', 'sample id', 'comments','seconds ago'])"
   ]
  },
  {
   "cell_type": "code",
   "execution_count": null,
   "id": "576cfd2e",
   "metadata": {},
   "outputs": [],
   "source": [
    "def drawScatter(df, listOfAttributes, listBadColumns): #e.g. [\"dairy name\", \"\"]\n",
    "    goodColumns = InverseBadColumns(df, listBadColumns)\n",
    "    fig = px.scatter(RawDairy, x=isStrNull(listOfAttributes[0]), y = isStrNull(listOfAttributes[1]), \\\n",
    "                     color = isStrNull(listOfAttributes[2]),\\\n",
    "                      size = isStrNull(listOfAttributes[3]), \\\n",
    "                      hover_data=goodColumns, trendline=\"ols\", title = \"size = \"+listOfAttributes[3])\n",
    "    fig.show()\n",
    "    \n",
    "    #hover_name=listOfAttributes[4]\n",
    "#listBadColumns = [\"location\",\"material\",\"category\",'subcategory', \\\n",
    "               #'username','analysis id', 'sample id', 'comments','seconds ago']\n",
    "####                   x =            y =        color =     size =              hovername    sidechart = violin or box or...\n",
    "#listOfAttributes = [\"sample count\", \"cow herd\", \"region\", \"moisture, %\",\"dairy name\", \"violin\"]\n",
    "#drawScatter(RawDairy, listOfAttributes, listBadColumns)"
   ]
  },
  {
   "cell_type": "code",
   "execution_count": null,
   "id": "7856ba1c",
   "metadata": {},
   "outputs": [],
   "source": [
    "def isStrNull(str1):\n",
    "    if str1.lower() == \"none\":\n",
    "        return None\n",
    "    else:\n",
    "        return str1\n"
   ]
  },
  {
   "cell_type": "code",
   "execution_count": null,
   "id": "67afcedb",
   "metadata": {},
   "outputs": [],
   "source": [
    "def BuildAScatter(datasets, listBadColumns):\n",
    "    print(\"Select a dataset to graph\")\n",
    "    listDatasets = []\n",
    "    for df in datasets:\n",
    "        listDatasets.append(get_df_name(df))\n",
    "    userInput = UserRequest(listDatasets)\n",
    "    if userInput == False:\n",
    "        return False\n",
    "        \n",
    "    for df in datasets:\n",
    "        if get_df_name(df) == userInput:\n",
    "            chosenDF = df\n",
    "    usefulColumns = InverseBadColumns(chosenDF, listBadColumns)\n",
    "    \n",
    "    print(\"\\nuseful columns: \")\n",
    "    listOfAttributes = []\n",
    "    print(\"Enter an X value\")\n",
    "    userInput = UserRequest(usefulColumns + [\"None\"])\n",
    "    listOfAttributes.append(userInput)\n",
    "    if userInput in usefulColumns:\n",
    "        usefulColumns.remove(userInput)\n",
    "    \n",
    "    print(\"Enter a Y value\")\n",
    "    userInput = UserRequest(usefulColumns + [\"None\"])\n",
    "    listOfAttributes.append(userInput)\n",
    "    if userInput in usefulColumns:\n",
    "        usefulColumns.remove(userInput)\n",
    "    \n",
    "    print(\"Enter a color value, or None\")\n",
    "    userInput = UserRequest(usefulColumns + [\"None\"])\n",
    "    listOfAttributes.append(userInput)\n",
    "    if userInput in usefulColumns:\n",
    "        usefulColumns.remove(userInput)\n",
    "    \n",
    "    print(\"Enter a size value, or None\")\n",
    "    userInput = UserRequest(usefulColumns + [\"None\"])\n",
    "    listOfAttributes.append(userInput)\n",
    "    if userInput in usefulColumns:\n",
    "        usefulColumns.remove(userInput)\n",
    "    \n",
    "    #repeat this for x number of scatter inputs, e.g. x val, y val, color, size, error bars, violin/box side plots etc.\n",
    "    #plug this list of entries into a new function that draws the scatter based off of a list.\n",
    "    \n",
    "    drawScatter(chosenDF, listOfAttributes, listBadColumns)\n",
    "    \n",
    "    \n",
    "print(\"warning, some entries have missing entries and will throw an error\\\n",
    " if used, or are invalid value types (e.g. dairy name as an x value)\")\n",
    "BuildAScatter([RawDairy, minInclusionRawDairy, RawDairyWithGallonsGroupedByDairy, RawDairyWithGallons], \\\n",
    "              [\"location\",\"material\",\"category\",'subcategory', \\\n",
    "               'username','analysis id', 'sample id', 'comments','seconds ago','igg standard dev'])"
   ]
  },
  {
   "cell_type": "markdown",
   "id": "84486083",
   "metadata": {},
   "source": [
    "## Output an excel file with cleaned and derived data"
   ]
  },
  {
   "cell_type": "code",
   "execution_count": null,
   "id": "2395c7bf",
   "metadata": {},
   "outputs": [],
   "source": [
    "RawDairy.to_excel(\"FinalOutput.xlsx\",\n",
    "             sheet_name='Sheet_name_1')  "
   ]
  },
  {
   "cell_type": "markdown",
   "id": "1db1e0f9",
   "metadata": {},
   "source": [
    "## TODO\n",
    "\n",
    "create an estimator for each dairy of how gallons per month varies throughout the year, use that to correct the gallons per cow per month estimate.\n",
    "\n",
    "create several \"build your own graph\" interfaces with user input.\n",
    "\n",
    "learn how to use toggles/scales on graphs\n",
    "\n",
    "estimate land in costs\n",
    "\n",
    "should merge on analysis ID?\n",
    "\n",
    "weighted variance? \n"
   ]
  }
 ],
 "metadata": {
  "kernelspec": {
   "display_name": "Python 3",
   "language": "python",
   "name": "python3"
  },
  "language_info": {
   "codemirror_mode": {
    "name": "ipython",
    "version": 3
   },
   "file_extension": ".py",
   "mimetype": "text/x-python",
   "name": "python",
   "nbconvert_exporter": "python",
   "pygments_lexer": "ipython3",
   "version": "3.7.11"
  }
 },
 "nbformat": 4,
 "nbformat_minor": 5
}

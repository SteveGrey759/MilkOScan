{
 "cells": [
  {
   "cell_type": "markdown",
   "id": "bdccc342",
   "metadata": {},
   "source": [
    "# Read Files"
   ]
  },
  {
   "cell_type": "markdown",
   "id": "6b10a92f",
   "metadata": {},
   "source": [
    "press the >> symbol above to begin or restart. finally press restart and run all cells.\n",
    "\n",
    "Alternatively. click on the first cell, or \"Read Files\". and keep pressing \"> Run\""
   ]
  },
  {
   "cell_type": "code",
   "execution_count": 1,
   "id": "1f940282",
   "metadata": {},
   "outputs": [
    {
     "data": {
      "text/html": [
       "<style id=hide>div.input{display:none;}</style><button type=\"button\"onclick=\"var myStyle = document.getElementById('hide').sheet;myStyle.insertRule('div.input{display:inherit !important;}', 0);\">Show inputs</button>"
      ],
      "text/plain": [
       "<IPython.core.display.HTML object>"
      ]
     },
     "metadata": {},
     "output_type": "display_data"
    }
   ],
   "source": [
    "from IPython.core.display import display, HTML\n",
    "display(HTML(r\"\"\"<style id=hide>div.input{display:none;}</style><button type=\"button\"onclick=\"var myStyle = document.getElementById('hide').sheet;myStyle.insertRule('div.input{display:inherit !important;}', 0);\">Show inputs</button>\"\"\"))"
   ]
  },
  {
   "cell_type": "code",
   "execution_count": 2,
   "id": "64b1052b",
   "metadata": {},
   "outputs": [
    {
     "name": "stdout",
     "output_type": "stream",
     "text": [
      "local Excel Files: \n",
      " \n",
      "July- Gallon Per Cow.xlsx\n",
      "testdairydata.xlsx\n"
     ]
    }
   ],
   "source": [
    "import os\n",
    "os.chdir(\"ExcelFiles\")\n",
    "print(\"local Excel Files: \\n \")\n",
    "for subdir, dirs, files in os.walk('./'):\n",
    "    for file in files:\n",
    "        if file[-4:] == \"xlsx\":\n",
    "            print (file)"
   ]
  },
  {
   "cell_type": "code",
   "execution_count": null,
   "id": "23c953cd",
   "metadata": {},
   "outputs": [],
   "source": [
    "\n"
   ]
  },
  {
   "cell_type": "code",
   "execution_count": 3,
   "id": "6c052970",
   "metadata": {},
   "outputs": [],
   "source": [
    "#example implementation https://mybinder.org/v2/gh/SteveGrey759/MilkOScan/HEAD?filepath=fileopen%26graph.ipynb"
   ]
  },
  {
   "cell_type": "code",
   "execution_count": 4,
   "id": "b25d04ca",
   "metadata": {},
   "outputs": [],
   "source": [
    "#What global variables may be desired for future manipulation of this data?\n",
    "#data grabbing:\n",
    "#relevant sheet #, \n",
    "#data cleaning: \n",
    "#just general oversight over how cleaning pipeline process is going, with warnings signs for dramatic errors\n",
    "#merging data:\n",
    "#derived columns/frames:\n",
    "#is days ago really a worthy column? \n",
    "#aggregates may take some interesting arguments\n",
    "#graphs: \n",
    "#date ranges, minInclusion stats, graph types, etc\n"
   ]
  },
  {
   "cell_type": "code",
   "execution_count": 5,
   "id": "7fffbdb3",
   "metadata": {},
   "outputs": [],
   "source": [
    "import numpy as np"
   ]
  },
  {
   "cell_type": "code",
   "execution_count": 6,
   "id": "9eac6a56",
   "metadata": {},
   "outputs": [],
   "source": [
    "fileName = \"\"\n",
    "RawDairySheetName = \"Raw Dairy (V#)\""
   ]
  },
  {
   "cell_type": "code",
   "execution_count": 7,
   "id": "a1637a29",
   "metadata": {},
   "outputs": [],
   "source": [
    "import pandas as pd\n",
    "import msoffcrypto \n",
    "import io \n",
    "\n",
    "\n",
    "while fileName != \"arbitraryunlikelytext\":\n",
    "    fileName = input(\"Please enter the Excel files full name: \")\n",
    "    #fileName = \"testdairydata.xlsx\"\n",
    "    fileName = fileName.strip()\n",
    "    password = input(\"Please enter the Excel password for DairyData: \")\n",
    "    #password = \"\"\n",
    "\n",
    "    try:\n",
    "        file = msoffcrypto.OfficeFile(open(fileName, \"rb\"))\n",
    "        file.load_key(password=password) # Use password\n",
    "        decrypted = io.BytesIO() \n",
    "        file.decrypt(decrypted)\n",
    "        RawDairy = pd.read_excel(decrypted, sheet_name=RawDairySheetName)\n",
    "        fileName = \"arbitraryunlikelytext\"\n",
    "        break\n",
    "    except Exception as e: \n",
    "        print(e)\n",
    "        print(\"Please try again, or restart\")"
   ]
  },
  {
   "cell_type": "code",
   "execution_count": 8,
   "id": "09ae7999",
   "metadata": {},
   "outputs": [
    {
     "data": {
      "text/plain": [
       "Index(['location', 'material', 'category', 'subcategory', 'username',\n",
       "       'analysis date/time', 'analysis id', 'sample id', 'comments',\n",
       "       'igg, as-is %', 'moisture, %', 'igg, dry base %'],\n",
       "      dtype='object')"
      ]
     },
     "execution_count": 8,
     "metadata": {},
     "output_type": "execute_result"
    }
   ],
   "source": [
    "#make all columns lowercase, and strip unecessary whitespaces\n",
    "RawDairy.columns= RawDairy.columns.str.lower()\n",
    "RawDairy.columns= RawDairy.columns.str.strip()\n",
    "RawDairy.columns"
   ]
  },
  {
   "cell_type": "code",
   "execution_count": 9,
   "id": "def4f79d",
   "metadata": {},
   "outputs": [],
   "source": [
    "#example of how to drop unnecessary columns\n",
    "#MilkoscanPage2 = MilkoscanPage2.drop(columns = ['comments'])\n",
    "#MilkoscanPage2.columns"
   ]
  },
  {
   "cell_type": "markdown",
   "id": "12e44e48",
   "metadata": {},
   "source": [
    "# Cleaning raw dairy data: \n",
    "### Possible errors: \n",
    "* incorrect category (defatted, non V sampleid), \n",
    "* slightly incorrect entries (sampleid, date), \n",
    "* outliers. \n",
    "* repeated entries (accidentally entering same sample id twice, or systematically entering wrong sample IDs for a whole batch (off by one error) "
   ]
  },
  {
   "cell_type": "markdown",
   "id": "5ca125c5",
   "metadata": {},
   "source": [
    "Delete Null/outlier values:\n",
    "* Some columns have missing entries, or text such as \"#N/A\" or \"Outlier\"\n",
    "* after converting those entries into a standard null value, we can display the number of nulls per column"
   ]
  },
  {
   "cell_type": "code",
   "execution_count": 10,
   "id": "174db440",
   "metadata": {},
   "outputs": [
    {
     "name": "stdout",
     "output_type": "stream",
     "text": [
      "Number of null values by column\n"
     ]
    },
    {
     "data": {
      "text/plain": [
       "location                0\n",
       "material                0\n",
       "category                0\n",
       "subcategory             0\n",
       "username                0\n",
       "analysis date/time      0\n",
       "analysis id             0\n",
       "sample id               0\n",
       "comments              578\n",
       "igg, as-is %            5\n",
       "moisture, %             2\n",
       "igg, dry base %         5\n",
       "dtype: int64"
      ]
     },
     "execution_count": 10,
     "metadata": {},
     "output_type": "execute_result"
    }
   ],
   "source": [
    "RawDairy = RawDairy.replace('#N/A',np.nan)\n",
    "RawDairy = RawDairy.replace('Outlier',np.nan)\n",
    "print(\"Number of null values by column\")\n",
    "RawDairy.isnull().sum()"
   ]
  },
  {
   "cell_type": "markdown",
   "id": "bb0b8005",
   "metadata": {},
   "source": [
    "### Delete all null entries from a specific column"
   ]
  },
  {
   "cell_type": "code",
   "execution_count": 11,
   "id": "1afd5eaa",
   "metadata": {},
   "outputs": [],
   "source": [
    "def dropNullsFromColumn(df, column):\n",
    "    df = df[df[column].notna()]\n",
    "    return df"
   ]
  },
  {
   "cell_type": "code",
   "execution_count": 12,
   "id": "191d0afe",
   "metadata": {},
   "outputs": [
    {
     "data": {
      "text/plain": [
       "location                0\n",
       "material                0\n",
       "category                0\n",
       "subcategory             0\n",
       "username                0\n",
       "analysis date/time      0\n",
       "analysis id             0\n",
       "sample id               0\n",
       "comments              573\n",
       "igg, as-is %            0\n",
       "moisture, %             0\n",
       "igg, dry base %         0\n",
       "dtype: int64"
      ]
     },
     "execution_count": 12,
     "metadata": {},
     "output_type": "execute_result"
    }
   ],
   "source": [
    "#dropNullsFromColumn(df = MilkoscanPage2, column = \"moisture, %\").isnull().sum() #it seems to work. \n",
    "for column in RawDairy.columns:\n",
    "    if column not in [\"comments\",\"exampletext\"]:\n",
    "        RawDairy = dropNullsFromColumn(df = RawDairy, column = column)\n",
    "RawDairy.isnull().sum() "
   ]
  },
  {
   "cell_type": "markdown",
   "id": "e225a9a9",
   "metadata": {},
   "source": [
    "### convert columns with small errors to type. delete outliers"
   ]
  },
  {
   "cell_type": "code",
   "execution_count": 13,
   "id": "222d6ec0",
   "metadata": {},
   "outputs": [
    {
     "data": {
      "text/plain": [
       "location                      object\n",
       "material                      object\n",
       "category                      object\n",
       "subcategory                   object\n",
       "username                      object\n",
       "analysis date/time    datetime64[ns]\n",
       "analysis id                   object\n",
       "sample id                     object\n",
       "comments                     float64\n",
       "igg, as-is %                  object\n",
       "moisture, %                  float64\n",
       "igg, dry base %              float64\n",
       "dtype: object"
      ]
     },
     "execution_count": 13,
     "metadata": {},
     "output_type": "execute_result"
    }
   ],
   "source": [
    "RawDairy.dtypes"
   ]
  },
  {
   "cell_type": "code",
   "execution_count": 14,
   "id": "2d5062a5",
   "metadata": {},
   "outputs": [
    {
     "name": "stdout",
     "output_type": "stream",
     "text": [
      "coercing analysis date/time to datetime format has caused 0 Number of null values\n"
     ]
    }
   ],
   "source": [
    "def coercedateTime(df, columnName):\n",
    "    preNull = df[columnName].isnull().values.sum()\n",
    "    dateTime = pd.to_datetime(df[columnName], errors = \"coerce\")\n",
    "    #test.describe()\n",
    "    print(\"coercing analysis date/time to datetime format has caused\", dateTime.isnull().values.sum()-preNull ,\"Number of null values\")\n",
    "    return dateTime\n",
    "#test.isnull().values.sum()\n",
    "RawDairy['analysis date/time'] = coercedateTime(df = RawDairy, columnName = 'analysis date/time')\n",
    "\n",
    "\n",
    "\n"
   ]
  },
  {
   "cell_type": "code",
   "execution_count": 15,
   "id": "595272c8",
   "metadata": {},
   "outputs": [
    {
     "name": "stdout",
     "output_type": "stream",
     "text": [
      "igg, as-is % converted to float\n",
      "moisture, % converted to float\n",
      "igg, dry base % converted to float\n"
     ]
    }
   ],
   "source": [
    "def coerceNumericOrString(df, columnsToNumeric):\n",
    "    #takes a list of column names to convert to numeric, converts all other object type columns to lowercase string\n",
    "    for column in df.columns:\n",
    "        if column in columnsToNumeric:\n",
    "            print(column, \"converted to float\")\n",
    "            df[column] = pd.to_numeric(df[column], errors='coerce', downcast='float')\n",
    "        elif df[column].dtypes != \"O\":\n",
    "            pass\n",
    "            #already coerced into timestamp or other object\n",
    "        else:\n",
    "            df[column] = df[column].astype(str)\n",
    "            df[column] = df[column].str.strip()\n",
    "            df[column] = df[column].str.lower()\n",
    "    return df\n",
    "RawDairy = coerceNumericOrString(df = RawDairy, columnsToNumeric = ['igg, as-is %', \"moisture, %\", \"igg, dry base %\"])"
   ]
  },
  {
   "cell_type": "markdown",
   "id": "c1031fc7",
   "metadata": {},
   "source": [
    "Nulls created by coercing to type:"
   ]
  },
  {
   "cell_type": "code",
   "execution_count": 16,
   "id": "03e4f90a",
   "metadata": {},
   "outputs": [
    {
     "data": {
      "text/plain": [
       "location                0\n",
       "material                0\n",
       "category                0\n",
       "subcategory             0\n",
       "username                0\n",
       "analysis date/time      0\n",
       "analysis id             0\n",
       "sample id               0\n",
       "comments              573\n",
       "igg, as-is %            2\n",
       "moisture, %             0\n",
       "igg, dry base %         0\n",
       "dtype: int64"
      ]
     },
     "execution_count": 16,
     "metadata": {},
     "output_type": "execute_result"
    }
   ],
   "source": [
    "RawDairy.isnull().sum() "
   ]
  },
  {
   "cell_type": "markdown",
   "id": "09170221",
   "metadata": {},
   "source": [
    "Again, drop all unacceptable nulls"
   ]
  },
  {
   "cell_type": "code",
   "execution_count": 17,
   "id": "888e6d19",
   "metadata": {},
   "outputs": [
    {
     "data": {
      "text/plain": [
       "location                0\n",
       "material                0\n",
       "category                0\n",
       "subcategory             0\n",
       "username                0\n",
       "analysis date/time      0\n",
       "analysis id             0\n",
       "sample id               0\n",
       "comments              571\n",
       "igg, as-is %            0\n",
       "moisture, %             0\n",
       "igg, dry base %         0\n",
       "dtype: int64"
      ]
     },
     "execution_count": 17,
     "metadata": {},
     "output_type": "execute_result"
    }
   ],
   "source": [
    "for column in RawDairy.columns:\n",
    "    if column not in [\"comments\",\"exampletext\"]:\n",
    "        RawDairy = dropNullsFromColumn(df = RawDairy, column = column)\n",
    "RawDairy.isnull().sum() "
   ]
  },
  {
   "cell_type": "markdown",
   "id": "97163bab",
   "metadata": {},
   "source": [
    "### add future columns:"
   ]
  },
  {
   "cell_type": "code",
   "execution_count": 18,
   "id": "d4936c08",
   "metadata": {},
   "outputs": [],
   "source": [
    "RawDairy[\"#tank\"] = np.nan "
   ]
  },
  {
   "cell_type": "code",
   "execution_count": 19,
   "id": "f53f0cc5",
   "metadata": {},
   "outputs": [],
   "source": [
    "RawDairy[\"days ago\"] = np.nan"
   ]
  },
  {
   "cell_type": "markdown",
   "id": "408ae0e6",
   "metadata": {},
   "source": [
    "### Delete incorrect category"
   ]
  },
  {
   "cell_type": "markdown",
   "id": "d647038e",
   "metadata": {},
   "source": [
    "#### removes all entries that have a sample id not starting with a V. Also shifts entries longer than 5 to a new column"
   ]
  },
  {
   "cell_type": "markdown",
   "id": "3a8f23b1",
   "metadata": {},
   "source": [
    " RawDairy['sample id'].max  #save shifting to new column for later date, discuss first"
   ]
  },
  {
   "cell_type": "markdown",
   "id": "6dcab0ea",
   "metadata": {},
   "source": [
    "def moveExcess (x):\n",
    "    x = str(x)\n",
    "    if len(x) < 5:\n",
    "        return x[3:]\n",
    "    return np.nan\n",
    "result = [moveExcess(x) for x in RawDairy['sample id']]\n",
    "result"
   ]
  },
  {
   "cell_type": "code",
   "execution_count": 20,
   "id": "2bb45c58",
   "metadata": {},
   "outputs": [],
   "source": [
    "def filterNonRaw(x):\n",
    "    #removes all entries that have a sample id not starting with a V.\n",
    "    if x[0].lower() != \"v\":\n",
    "        return np.nan\n",
    "    if len(x) < 5:\n",
    "        return np.nan\n",
    "    return x[:5]\n",
    "result = [filterNonRaw(x) for x in RawDairy['sample id']]\n",
    "#RawDairy['sample id'] = result"
   ]
  },
  {
   "cell_type": "code",
   "execution_count": 21,
   "id": "5a709829",
   "metadata": {},
   "outputs": [
    {
     "data": {
      "text/html": [
       "<div>\n",
       "<style scoped>\n",
       "    .dataframe tbody tr th:only-of-type {\n",
       "        vertical-align: middle;\n",
       "    }\n",
       "\n",
       "    .dataframe tbody tr th {\n",
       "        vertical-align: top;\n",
       "    }\n",
       "\n",
       "    .dataframe thead th {\n",
       "        text-align: right;\n",
       "    }\n",
       "</style>\n",
       "<table border=\"1\" class=\"dataframe\">\n",
       "  <thead>\n",
       "    <tr style=\"text-align: right;\">\n",
       "      <th></th>\n",
       "      <th>location</th>\n",
       "      <th>material</th>\n",
       "      <th>category</th>\n",
       "      <th>subcategory</th>\n",
       "      <th>username</th>\n",
       "      <th>analysis date/time</th>\n",
       "      <th>analysis id</th>\n",
       "      <th>sample id</th>\n",
       "      <th>comments</th>\n",
       "      <th>igg, as-is %</th>\n",
       "      <th>moisture, %</th>\n",
       "      <th>igg, dry base %</th>\n",
       "      <th>#tank</th>\n",
       "      <th>days ago</th>\n",
       "    </tr>\n",
       "  </thead>\n",
       "  <tbody>\n",
       "    <tr>\n",
       "      <th>60</th>\n",
       "      <td>phoenix, az</td>\n",
       "      <td>colostrum</td>\n",
       "      <td>whole</td>\n",
       "      <td>any</td>\n",
       "      <td>adp@pantheryx</td>\n",
       "      <td>2021-04-05 11:53:00</td>\n",
       "      <td>az32538083</td>\n",
       "      <td>14353-4</td>\n",
       "      <td>NaN</td>\n",
       "      <td>2.48</td>\n",
       "      <td>76.699997</td>\n",
       "      <td>10.64</td>\n",
       "      <td>NaN</td>\n",
       "      <td>NaN</td>\n",
       "    </tr>\n",
       "    <tr>\n",
       "      <th>61</th>\n",
       "      <td>phoenix, az</td>\n",
       "      <td>colostrum</td>\n",
       "      <td>whole</td>\n",
       "      <td>any</td>\n",
       "      <td>adp@pantheryx</td>\n",
       "      <td>2021-04-05 11:58:00</td>\n",
       "      <td>az44638083</td>\n",
       "      <td>14353-4</td>\n",
       "      <td>NaN</td>\n",
       "      <td>2.41</td>\n",
       "      <td>78.040001</td>\n",
       "      <td>10.97</td>\n",
       "      <td>NaN</td>\n",
       "      <td>NaN</td>\n",
       "    </tr>\n",
       "    <tr>\n",
       "      <th>62</th>\n",
       "      <td>phoenix, az</td>\n",
       "      <td>colostrum</td>\n",
       "      <td>whole</td>\n",
       "      <td>any</td>\n",
       "      <td>adp@pantheryx</td>\n",
       "      <td>2021-04-05 12:00:00</td>\n",
       "      <td>az59638083</td>\n",
       "      <td>14353-5</td>\n",
       "      <td>NaN</td>\n",
       "      <td>1.99</td>\n",
       "      <td>78.010002</td>\n",
       "      <td>9.05</td>\n",
       "      <td>NaN</td>\n",
       "      <td>NaN</td>\n",
       "    </tr>\n",
       "    <tr>\n",
       "      <th>63</th>\n",
       "      <td>phoenix, az</td>\n",
       "      <td>colostrum</td>\n",
       "      <td>whole</td>\n",
       "      <td>any</td>\n",
       "      <td>adp@pantheryx</td>\n",
       "      <td>2021-04-05 12:02:00</td>\n",
       "      <td>az56738083</td>\n",
       "      <td>14353-5</td>\n",
       "      <td>NaN</td>\n",
       "      <td>1.83</td>\n",
       "      <td>77.430000</td>\n",
       "      <td>8.11</td>\n",
       "      <td>NaN</td>\n",
       "      <td>NaN</td>\n",
       "    </tr>\n",
       "    <tr>\n",
       "      <th>64</th>\n",
       "      <td>phoenix, az</td>\n",
       "      <td>colostrum</td>\n",
       "      <td>whole</td>\n",
       "      <td>any</td>\n",
       "      <td>adp@pantheryx</td>\n",
       "      <td>2021-04-05 12:20:00</td>\n",
       "      <td>az36048083</td>\n",
       "      <td>14353-6</td>\n",
       "      <td>NaN</td>\n",
       "      <td>1.82</td>\n",
       "      <td>78.309998</td>\n",
       "      <td>8.39</td>\n",
       "      <td>NaN</td>\n",
       "      <td>NaN</td>\n",
       "    </tr>\n",
       "  </tbody>\n",
       "</table>\n",
       "</div>"
      ],
      "text/plain": [
       "       location   material category subcategory       username  \\\n",
       "60  phoenix, az  colostrum    whole         any  adp@pantheryx   \n",
       "61  phoenix, az  colostrum    whole         any  adp@pantheryx   \n",
       "62  phoenix, az  colostrum    whole         any  adp@pantheryx   \n",
       "63  phoenix, az  colostrum    whole         any  adp@pantheryx   \n",
       "64  phoenix, az  colostrum    whole         any  adp@pantheryx   \n",
       "\n",
       "    analysis date/time analysis id sample id  comments  igg, as-is %  \\\n",
       "60 2021-04-05 11:53:00  az32538083   14353-4       NaN          2.48   \n",
       "61 2021-04-05 11:58:00  az44638083   14353-4       NaN          2.41   \n",
       "62 2021-04-05 12:00:00  az59638083   14353-5       NaN          1.99   \n",
       "63 2021-04-05 12:02:00  az56738083   14353-5       NaN          1.83   \n",
       "64 2021-04-05 12:20:00  az36048083   14353-6       NaN          1.82   \n",
       "\n",
       "    moisture, %  igg, dry base %  #tank  days ago  \n",
       "60    76.699997            10.64    NaN       NaN  \n",
       "61    78.040001            10.97    NaN       NaN  \n",
       "62    78.010002             9.05    NaN       NaN  \n",
       "63    77.430000             8.11    NaN       NaN  \n",
       "64    78.309998             8.39    NaN       NaN  "
      ]
     },
     "execution_count": 21,
     "metadata": {},
     "output_type": "execute_result"
    }
   ],
   "source": [
    "#a sample of wrong ID samples\n",
    "RawDairy[RawDairy['sample id'] != result].head(5)"
   ]
  },
  {
   "cell_type": "code",
   "execution_count": 22,
   "id": "6886785b",
   "metadata": {},
   "outputs": [],
   "source": [
    "RawDairy['sample id'] = result"
   ]
  },
  {
   "cell_type": "code",
   "execution_count": 23,
   "id": "3d580e77",
   "metadata": {},
   "outputs": [
    {
     "name": "stdout",
     "output_type": "stream",
     "text": [
      "33 samples have invalid sample IDs\n"
     ]
    }
   ],
   "source": [
    "print(RawDairy['sample id'].isnull().sum(), \"samples have invalid sample IDs\")"
   ]
  },
  {
   "cell_type": "code",
   "execution_count": 24,
   "id": "081e7824",
   "metadata": {},
   "outputs": [],
   "source": [
    "RawDairy = dropNullsFromColumn(df = RawDairy, column = 'sample id')\n",
    "#deleted entries with invalid sample IDs"
   ]
  },
  {
   "cell_type": "markdown",
   "id": "246763ac",
   "metadata": {},
   "source": [
    "### delete duplicate entries"
   ]
  },
  {
   "cell_type": "code",
   "execution_count": 25,
   "id": "55c42787",
   "metadata": {},
   "outputs": [
    {
     "name": "stdout",
     "output_type": "stream",
     "text": [
      "120\n",
      "[1, 3, 5, 7, 9, 11, 13, 15, 17, 19, 21, 23, 25, 27, 29, 31, 33, 35, 37, 39]\n"
     ]
    },
    {
     "data": {
      "text/html": [
       "<div>\n",
       "<style scoped>\n",
       "    .dataframe tbody tr th:only-of-type {\n",
       "        vertical-align: middle;\n",
       "    }\n",
       "\n",
       "    .dataframe tbody tr th {\n",
       "        vertical-align: top;\n",
       "    }\n",
       "\n",
       "    .dataframe thead th {\n",
       "        text-align: right;\n",
       "    }\n",
       "</style>\n",
       "<table border=\"1\" class=\"dataframe\">\n",
       "  <thead>\n",
       "    <tr style=\"text-align: right;\">\n",
       "      <th></th>\n",
       "      <th>location</th>\n",
       "      <th>material</th>\n",
       "      <th>category</th>\n",
       "      <th>subcategory</th>\n",
       "      <th>username</th>\n",
       "      <th>analysis date/time</th>\n",
       "      <th>analysis id</th>\n",
       "      <th>sample id</th>\n",
       "      <th>comments</th>\n",
       "      <th>igg, as-is %</th>\n",
       "      <th>moisture, %</th>\n",
       "      <th>igg, dry base %</th>\n",
       "      <th>#tank</th>\n",
       "      <th>days ago</th>\n",
       "    </tr>\n",
       "  </thead>\n",
       "  <tbody>\n",
       "    <tr>\n",
       "      <th>0</th>\n",
       "      <td>phoenix, az</td>\n",
       "      <td>colostrum</td>\n",
       "      <td>whole</td>\n",
       "      <td>any</td>\n",
       "      <td>adp@pantheryx</td>\n",
       "      <td>2021-04-01 11:28:00</td>\n",
       "      <td>az43101083</td>\n",
       "      <td>v4590</td>\n",
       "      <td>NaN</td>\n",
       "      <td>2.24</td>\n",
       "      <td>80.089996</td>\n",
       "      <td>11.25</td>\n",
       "      <td>NaN</td>\n",
       "      <td>NaN</td>\n",
       "    </tr>\n",
       "    <tr>\n",
       "      <th>1</th>\n",
       "      <td>phoenix, az</td>\n",
       "      <td>colostrum</td>\n",
       "      <td>whole</td>\n",
       "      <td>any</td>\n",
       "      <td>adp@pantheryx</td>\n",
       "      <td>2021-04-01 11:30:00</td>\n",
       "      <td>az58101083</td>\n",
       "      <td>v4590</td>\n",
       "      <td>NaN</td>\n",
       "      <td>2.19</td>\n",
       "      <td>79.260002</td>\n",
       "      <td>10.56</td>\n",
       "      <td>NaN</td>\n",
       "      <td>NaN</td>\n",
       "    </tr>\n",
       "    <tr>\n",
       "      <th>2</th>\n",
       "      <td>phoenix, az</td>\n",
       "      <td>colostrum</td>\n",
       "      <td>whole</td>\n",
       "      <td>any</td>\n",
       "      <td>adp@pantheryx</td>\n",
       "      <td>2021-04-01 11:32:00</td>\n",
       "      <td>az34201083</td>\n",
       "      <td>v4753</td>\n",
       "      <td>NaN</td>\n",
       "      <td>2.29</td>\n",
       "      <td>82.029999</td>\n",
       "      <td>12.74</td>\n",
       "      <td>NaN</td>\n",
       "      <td>NaN</td>\n",
       "    </tr>\n",
       "    <tr>\n",
       "      <th>3</th>\n",
       "      <td>phoenix, az</td>\n",
       "      <td>colostrum</td>\n",
       "      <td>whole</td>\n",
       "      <td>any</td>\n",
       "      <td>adp@pantheryx</td>\n",
       "      <td>2021-04-01 11:33:00</td>\n",
       "      <td>az31301083</td>\n",
       "      <td>v4753</td>\n",
       "      <td>NaN</td>\n",
       "      <td>2.26</td>\n",
       "      <td>78.900002</td>\n",
       "      <td>10.71</td>\n",
       "      <td>NaN</td>\n",
       "      <td>NaN</td>\n",
       "    </tr>\n",
       "    <tr>\n",
       "      <th>4</th>\n",
       "      <td>phoenix, az</td>\n",
       "      <td>colostrum</td>\n",
       "      <td>whole</td>\n",
       "      <td>any</td>\n",
       "      <td>adp@pantheryx</td>\n",
       "      <td>2021-04-01 11:35:00</td>\n",
       "      <td>az45301083</td>\n",
       "      <td>v4478</td>\n",
       "      <td>NaN</td>\n",
       "      <td>1.06</td>\n",
       "      <td>74.099998</td>\n",
       "      <td>4.09</td>\n",
       "      <td>NaN</td>\n",
       "      <td>NaN</td>\n",
       "    </tr>\n",
       "    <tr>\n",
       "      <th>5</th>\n",
       "      <td>phoenix, az</td>\n",
       "      <td>colostrum</td>\n",
       "      <td>whole</td>\n",
       "      <td>any</td>\n",
       "      <td>adp@pantheryx</td>\n",
       "      <td>2021-04-01 11:38:00</td>\n",
       "      <td>az41401083</td>\n",
       "      <td>v4478</td>\n",
       "      <td>NaN</td>\n",
       "      <td>1.06</td>\n",
       "      <td>76.519997</td>\n",
       "      <td>4.51</td>\n",
       "      <td>NaN</td>\n",
       "      <td>NaN</td>\n",
       "    </tr>\n",
       "    <tr>\n",
       "      <th>6</th>\n",
       "      <td>phoenix, az</td>\n",
       "      <td>colostrum</td>\n",
       "      <td>whole</td>\n",
       "      <td>any</td>\n",
       "      <td>adp@pantheryx</td>\n",
       "      <td>2021-04-01 11:40:00</td>\n",
       "      <td>az56401083</td>\n",
       "      <td>v4850</td>\n",
       "      <td>NaN</td>\n",
       "      <td>1.62</td>\n",
       "      <td>81.120003</td>\n",
       "      <td>8.58</td>\n",
       "      <td>NaN</td>\n",
       "      <td>NaN</td>\n",
       "    </tr>\n",
       "    <tr>\n",
       "      <th>7</th>\n",
       "      <td>phoenix, az</td>\n",
       "      <td>colostrum</td>\n",
       "      <td>whole</td>\n",
       "      <td>any</td>\n",
       "      <td>adp@pantheryx</td>\n",
       "      <td>2021-04-01 11:41:00</td>\n",
       "      <td>az42501083</td>\n",
       "      <td>v4850</td>\n",
       "      <td>NaN</td>\n",
       "      <td>1.48</td>\n",
       "      <td>80.519997</td>\n",
       "      <td>7.60</td>\n",
       "      <td>NaN</td>\n",
       "      <td>NaN</td>\n",
       "    </tr>\n",
       "    <tr>\n",
       "      <th>8</th>\n",
       "      <td>phoenix, az</td>\n",
       "      <td>colostrum</td>\n",
       "      <td>whole</td>\n",
       "      <td>any</td>\n",
       "      <td>adp@pantheryx</td>\n",
       "      <td>2021-04-01 11:43:00</td>\n",
       "      <td>az48501083</td>\n",
       "      <td>v4869</td>\n",
       "      <td>NaN</td>\n",
       "      <td>3.98</td>\n",
       "      <td>77.769997</td>\n",
       "      <td>17.90</td>\n",
       "      <td>NaN</td>\n",
       "      <td>NaN</td>\n",
       "    </tr>\n",
       "    <tr>\n",
       "      <th>9</th>\n",
       "      <td>phoenix, az</td>\n",
       "      <td>colostrum</td>\n",
       "      <td>whole</td>\n",
       "      <td>any</td>\n",
       "      <td>adp@pantheryx</td>\n",
       "      <td>2021-04-01 11:45:00</td>\n",
       "      <td>az43601083</td>\n",
       "      <td>v4869</td>\n",
       "      <td>NaN</td>\n",
       "      <td>4.08</td>\n",
       "      <td>78.790001</td>\n",
       "      <td>19.24</td>\n",
       "      <td>NaN</td>\n",
       "      <td>NaN</td>\n",
       "    </tr>\n",
       "  </tbody>\n",
       "</table>\n",
       "</div>"
      ],
      "text/plain": [
       "      location   material category subcategory       username  \\\n",
       "0  phoenix, az  colostrum    whole         any  adp@pantheryx   \n",
       "1  phoenix, az  colostrum    whole         any  adp@pantheryx   \n",
       "2  phoenix, az  colostrum    whole         any  adp@pantheryx   \n",
       "3  phoenix, az  colostrum    whole         any  adp@pantheryx   \n",
       "4  phoenix, az  colostrum    whole         any  adp@pantheryx   \n",
       "5  phoenix, az  colostrum    whole         any  adp@pantheryx   \n",
       "6  phoenix, az  colostrum    whole         any  adp@pantheryx   \n",
       "7  phoenix, az  colostrum    whole         any  adp@pantheryx   \n",
       "8  phoenix, az  colostrum    whole         any  adp@pantheryx   \n",
       "9  phoenix, az  colostrum    whole         any  adp@pantheryx   \n",
       "\n",
       "   analysis date/time analysis id sample id  comments  igg, as-is %  \\\n",
       "0 2021-04-01 11:28:00  az43101083     v4590       NaN          2.24   \n",
       "1 2021-04-01 11:30:00  az58101083     v4590       NaN          2.19   \n",
       "2 2021-04-01 11:32:00  az34201083     v4753       NaN          2.29   \n",
       "3 2021-04-01 11:33:00  az31301083     v4753       NaN          2.26   \n",
       "4 2021-04-01 11:35:00  az45301083     v4478       NaN          1.06   \n",
       "5 2021-04-01 11:38:00  az41401083     v4478       NaN          1.06   \n",
       "6 2021-04-01 11:40:00  az56401083     v4850       NaN          1.62   \n",
       "7 2021-04-01 11:41:00  az42501083     v4850       NaN          1.48   \n",
       "8 2021-04-01 11:43:00  az48501083     v4869       NaN          3.98   \n",
       "9 2021-04-01 11:45:00  az43601083     v4869       NaN          4.08   \n",
       "\n",
       "   moisture, %  igg, dry base %  #tank  days ago  \n",
       "0    80.089996            11.25    NaN       NaN  \n",
       "1    79.260002            10.56    NaN       NaN  \n",
       "2    82.029999            12.74    NaN       NaN  \n",
       "3    78.900002            10.71    NaN       NaN  \n",
       "4    74.099998             4.09    NaN       NaN  \n",
       "5    76.519997             4.51    NaN       NaN  \n",
       "6    81.120003             8.58    NaN       NaN  \n",
       "7    80.519997             7.60    NaN       NaN  \n",
       "8    77.769997            17.90    NaN       NaN  \n",
       "9    78.790001            19.24    NaN       NaN  "
      ]
     },
     "execution_count": 25,
     "metadata": {},
     "output_type": "execute_result"
    }
   ],
   "source": [
    "RawDairy = RawDairy.sort_values(by=['analysis date/time'])\n",
    "capacity = 5\n",
    "suspiciousMinutes = 10 #minutes\n",
    "popList = [] #[[name, date], [name, date]] #pop out an entry after it has exceeded a timelimit\n",
    "duplicates = [] #[[412, 413],[442,443] ....]\n",
    "\n",
    "for row, index in zip(RawDairy.itertuples(), range(len(RawDairy))) :\n",
    "    date = row[6]\n",
    "    name = row[8]\n",
    "    iggAsIs = row[10]\n",
    "    #print(row) #Pandas(Index=291, _1=Timestamp('2021-04-01 11:28:00'), _2='AZ43101083', _3=2.240000009536743, _4=80.08999633789062, _5=11.25, _6='DELBERT DENURE', _7=100.0, Region='WI')\n",
    "    for recent in popList:\n",
    "        if name == recent[0]: \n",
    "            if abs((recent[1] - date).total_seconds()) < 60*suspiciousMinutes: \n",
    "                duplicates.append(index)\n",
    "                break\n",
    "    else:\n",
    "        popList.append([name, date]) \n",
    "    if len(popList) > capacity:\n",
    "        popList = popList[1:]\n",
    "\n",
    "\n",
    "print(len(duplicates))\n",
    "print(duplicates[:20])\n",
    "RawDairy.head(10)"
   ]
  },
  {
   "cell_type": "markdown",
   "id": "5b4385c7",
   "metadata": {},
   "source": [
    "Which columns are most subject to change? cow herd size? gallon per cow? \n",
    "we may keep these in a separate excel file"
   ]
  },
  {
   "cell_type": "code",
   "execution_count": null,
   "id": "e6c4c8b5",
   "metadata": {},
   "outputs": [],
   "source": []
  },
  {
   "cell_type": "markdown",
   "id": "f21fdcbd",
   "metadata": {},
   "source": [
    "import numpy as np\n",
    "import pandas as pd\n",
    "import seaborn as sns\n",
    "from datetime import datetime"
   ]
  },
  {
   "cell_type": "markdown",
   "id": "ce7d8a4b",
   "metadata": {},
   "source": [
    "Read raw data from two files"
   ]
  },
  {
   "cell_type": "markdown",
   "id": "32d4f325",
   "metadata": {},
   "source": [
    "RawDairy = pd.read_excel('raw-dairy-data.xlsx', sheet_name=0)"
   ]
  },
  {
   "cell_type": "code",
   "execution_count": null,
   "id": "fc0cc871",
   "metadata": {},
   "outputs": [],
   "source": []
  },
  {
   "cell_type": "code",
   "execution_count": null,
   "id": "f6f14f78",
   "metadata": {},
   "outputs": [],
   "source": []
  }
 ],
 "metadata": {
  "kernelspec": {
   "display_name": "Python 3",
   "language": "python",
   "name": "python3"
  },
  "language_info": {
   "codemirror_mode": {
    "name": "ipython",
    "version": 3
   },
   "file_extension": ".py",
   "mimetype": "text/x-python",
   "name": "python",
   "nbconvert_exporter": "python",
   "pygments_lexer": "ipython3",
   "version": "3.7.11"
  }
 },
 "nbformat": 4,
 "nbformat_minor": 5
}
